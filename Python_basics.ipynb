{
  "nbformat": 4,
  "nbformat_minor": 0,
  "metadata": {
    "colab": {
      "provenance": []
    },
    "kernelspec": {
      "name": "python3",
      "display_name": "Python 3"
    },
    "language_info": {
      "name": "python"
    }
  },
  "cells": [
    {
      "cell_type": "markdown",
      "source": [
        "#Python Basics questions\n",
        "1.\tWhat is Python, and why is it popular?\n",
        "\n",
        "  Ans: Python is a interpreter language .it is mostly used in data science and ai ml.\n",
        "\n",
        "2.\tWhat is an interpreter in Python*\n",
        "\n",
        "Ans: interpreter is a program which read and excecutes the code\n",
        "3.\tWhat are pre—defined keywords in Python?\n",
        "\n",
        "Ans: pre—defined keywords are 1)type 2)print 3)def\n",
        "False               class               from                or\n",
        "None                continue            global              pass\n",
        "True                def                 if                  raise\n",
        "and                 del                 import              return\n",
        "as                  elif                in                  try\n",
        "assert              else                is                  while\n",
        "async               except              lambda              with\n",
        "await               finally             nonlocal            yield\n",
        "break               for                 not                 \n",
        "4.\tCan keywords be used as variable names*\n",
        "\n",
        "Ans:No it will give error\n",
        "5.\tWhat is mutability in Python*\n",
        "\n",
        "Ans: mutability refers to the object to change its ability.\n",
        "6.\tWhy are lists mutable, but tuples are immutable?\n",
        "\n",
        "Ans: lists are like flexible data structure bur tuples gives us safety that it can’t get modified\n",
        "7.\tWhat is the difference between \"==\" and \"is\" operators in Python?\n",
        "\n",
        "Ans->‘==’ checks if two values of two object are same but is checks if two variables points to the same object\n",
        "8.\tWhat are logical operators in Python*\n",
        "\n",
        "Ans-> Logical operators do logic operation like or,and,xor,xnor\n",
        "9.\tWhat is type costing in Python*\n",
        "Type casting helps us to change the type of the variable like int to float\n",
        "10.\tWhat is the difference between implicit and explicit type casting?\n",
        "\n",
        "Ans-> Explicit typecasting means when we externally changes the type of variable\n",
        "Implicit typecasting means when interpreter do it automatically\n",
        "11.\tWhat is the purpose of conditional statements in Python?\n",
        "\n",
        "Ans->Conditionals statements provides us different scenarios to check the different possiblites\n",
        "12.\tHow does the elif statement work*\n",
        "\n",
        "Ans:-> elif statements are used to help us to write more no of conditions and other variations of conditions\n",
        "13.\tWhat is the difference between for and while loops*\n",
        "\n",
        "Ans:->For loops we use when no of iterations we know\n",
        "While loops we use when no of iterations are unknown\n",
        "14.\tDescribe a scenario where a while loop is more suitable than a for loop.\n",
        "\n",
        "Ans-> Suppose we have a case where we don’t know the no of iterations so we use while loop.\n",
        "\n",
        "Like we will use when we want to run infinity loop\n",
        "\n",
        "While(1)\n",
        "\n",
        "//code//\n",
        "\n",
        "If(conditions matches )\n",
        "\n",
        "Break\n"
      ],
      "metadata": {
        "id": "EO2exubizgdt"
      }
    },
    {
      "cell_type": "code",
      "source": [
        "# 48 Write a Python program to print \"Hello, World!\n",
        "print(\"Hello World!\")"
      ],
      "metadata": {
        "colab": {
          "base_uri": "https://localhost:8080/"
        },
        "id": "ChytLnm60nqs",
        "outputId": "ff88fd79-7042-4ea2-a0b2-cf62fc550029"
      },
      "execution_count": null,
      "outputs": [
        {
          "output_type": "stream",
          "name": "stdout",
          "text": [
            "Hello World!\n"
          ]
        }
      ]
    },
    {
      "cell_type": "code",
      "source": [
        "# 2 Write a Python program that displays your name and age?\n",
        "name=\"Ankit Kumar\"\n",
        "age=19\n",
        "print(f\"Name:{name} \\nAge:{age}\")"
      ],
      "metadata": {
        "colab": {
          "base_uri": "https://localhost:8080/"
        },
        "id": "ibVlV1qt01Xb",
        "outputId": "1c0f128c-baa5-42f4-a373-3e55c9d704c6"
      },
      "execution_count": null,
      "outputs": [
        {
          "output_type": "stream",
          "name": "stdout",
          "text": [
            "Name:Ankit Kumar \n",
            "Age:19\n"
          ]
        }
      ]
    },
    {
      "cell_type": "code",
      "source": [
        "#8 Write code to print all the pre-defined keywords in Python using the keyword library\n",
        "help(\"keywords\")"
      ],
      "metadata": {
        "colab": {
          "base_uri": "https://localhost:8080/"
        },
        "id": "7yEeZ-bg1LgS",
        "outputId": "da4aabe1-c4ac-42c0-90c3-365e2a3c7fd2"
      },
      "execution_count": null,
      "outputs": [
        {
          "output_type": "stream",
          "name": "stdout",
          "text": [
            "\n",
            "Here is a list of the Python keywords.  Enter any keyword to get more help.\n",
            "\n",
            "False               class               from                or\n",
            "None                continue            global              pass\n",
            "True                def                 if                  raise\n",
            "and                 del                 import              return\n",
            "as                  elif                in                  try\n",
            "assert              else                is                  while\n",
            "async               except              lambda              with\n",
            "await               finally             nonlocal            yield\n",
            "break               for                 not                 \n",
            "\n"
          ]
        }
      ]
    },
    {
      "cell_type": "code",
      "source": [
        "#4 Write a program that checks if a given word is a Python keyword.\n",
        "import keyword\n",
        "print(keyword.iskeyword(\"continue\"))\n",
        "print(keyword.iskeyword(\"ankit\"))"
      ],
      "metadata": {
        "id": "r9lbc-Mv1bT7",
        "colab": {
          "base_uri": "https://localhost:8080/"
        },
        "outputId": "e9042031-ffdb-49a0-dc20-da0b80181961"
      },
      "execution_count": 8,
      "outputs": [
        {
          "output_type": "stream",
          "name": "stdout",
          "text": [
            "True\n",
            "False\n"
          ]
        }
      ]
    },
    {
      "cell_type": "code",
      "source": [
        "#5. Create a list and tuple in Python, and demonstrate how attempting to change an element works differently\n",
        "#for each.\n",
        "\n",
        "\n",
        "####### List #######\n",
        "lis=[1,2,3,4,\"ankit\",\"varun\"] # intialized the list\n",
        "print(lis)\n",
        "lis[3]=\"lucky\"\n",
        "print(lis) #changed\n",
        "####### List #######\n",
        "\n",
        "###### Tuple ######\n",
        "tup=(1,2,3,4,\"ankit\",\"varun\") # intialized the tuple\n",
        "print(tup)\n",
        "tup[3]=\"lucky\" #error created\n",
        "print(tup) #not changed\n",
        "###### Tuple ######"
      ],
      "metadata": {
        "colab": {
          "base_uri": "https://localhost:8080/",
          "height": 263
        },
        "id": "0SAiIf1G3Thn",
        "outputId": "a07a1162-6505-4d25-8228-d94a3f03afa2"
      },
      "execution_count": 9,
      "outputs": [
        {
          "output_type": "stream",
          "name": "stdout",
          "text": [
            "[1, 2, 3, 4, 'ankit', 'varun']\n",
            "[1, 2, 3, 'lucky', 'ankit', 'varun']\n",
            "(1, 2, 3, 4, 'ankit', 'varun')\n"
          ]
        },
        {
          "output_type": "error",
          "ename": "TypeError",
          "evalue": "'tuple' object does not support item assignment",
          "traceback": [
            "\u001b[0;31m---------------------------------------------------------------------------\u001b[0m",
            "\u001b[0;31mTypeError\u001b[0m                                 Traceback (most recent call last)",
            "\u001b[0;32m<ipython-input-9-05c982b05ea2>\u001b[0m in \u001b[0;36m<cell line: 0>\u001b[0;34m()\u001b[0m\n\u001b[1;32m     13\u001b[0m \u001b[0mtup\u001b[0m\u001b[0;34m=\u001b[0m\u001b[0;34m(\u001b[0m\u001b[0;36m1\u001b[0m\u001b[0;34m,\u001b[0m\u001b[0;36m2\u001b[0m\u001b[0;34m,\u001b[0m\u001b[0;36m3\u001b[0m\u001b[0;34m,\u001b[0m\u001b[0;36m4\u001b[0m\u001b[0;34m,\u001b[0m\u001b[0;34m\"ankit\"\u001b[0m\u001b[0;34m,\u001b[0m\u001b[0;34m\"varun\"\u001b[0m\u001b[0;34m)\u001b[0m \u001b[0;31m# intialized the tuple\u001b[0m\u001b[0;34m\u001b[0m\u001b[0;34m\u001b[0m\u001b[0m\n\u001b[1;32m     14\u001b[0m \u001b[0mprint\u001b[0m\u001b[0;34m(\u001b[0m\u001b[0mtup\u001b[0m\u001b[0;34m)\u001b[0m\u001b[0;34m\u001b[0m\u001b[0;34m\u001b[0m\u001b[0m\n\u001b[0;32m---> 15\u001b[0;31m \u001b[0mtup\u001b[0m\u001b[0;34m[\u001b[0m\u001b[0;36m3\u001b[0m\u001b[0;34m]\u001b[0m\u001b[0;34m=\u001b[0m\u001b[0;34m\"lucky\"\u001b[0m\u001b[0;34m\u001b[0m\u001b[0;34m\u001b[0m\u001b[0m\n\u001b[0m\u001b[1;32m     16\u001b[0m \u001b[0mprint\u001b[0m\u001b[0;34m(\u001b[0m\u001b[0mtup\u001b[0m\u001b[0;34m)\u001b[0m \u001b[0;31m#not changed\u001b[0m\u001b[0;34m\u001b[0m\u001b[0;34m\u001b[0m\u001b[0m\n\u001b[1;32m     17\u001b[0m \u001b[0;31m###### Tuple ######\u001b[0m\u001b[0;34m\u001b[0m\u001b[0;34m\u001b[0m\u001b[0m\n",
            "\u001b[0;31mTypeError\u001b[0m: 'tuple' object does not support item assignment"
          ]
        }
      ]
    },
    {
      "cell_type": "code",
      "source": [
        "#6. Write a function to demonstrate the behavior of mutable and immutable arguments.\n",
        "## MUTABLE: data structure which have changing ability are mutable\n",
        "## example: list\n",
        "def modify_list(lst):\n",
        "  lst.append(4)\n",
        "\n",
        "def modify_string(s):\n",
        "  s+=\"kumar\"\n",
        "\n",
        "lst=[1,2,3]\n",
        "str1=\"ankit \"\n",
        "modify_list(lst)\n",
        "modify_string(str1)\n",
        "print(lst)\n",
        "print(str1)\n",
        "\n",
        "## IMMUTABLE: data structure which have fixed value are immutable\n",
        "## example: tuple"
      ],
      "metadata": {
        "colab": {
          "base_uri": "https://localhost:8080/"
        },
        "id": "kzP7-2lD4Adw",
        "outputId": "469b984a-d4f8-4c34-9747-b06d7575cb23"
      },
      "execution_count": 16,
      "outputs": [
        {
          "output_type": "stream",
          "name": "stdout",
          "text": [
            "[1, 2, 3, 4]\n",
            "ankit \n"
          ]
        }
      ]
    },
    {
      "cell_type": "code",
      "source": [
        "#7. Write a program that performs basic arithmetic operations on two user-input numbers.\n",
        "a=int(input())\n",
        "b=int(input())\n",
        "print(f\"a+b:{a+b} a-b:{a-b} a*b={a*b} a/b={a/b}\")"
      ],
      "metadata": {
        "colab": {
          "base_uri": "https://localhost:8080/"
        },
        "id": "b_TAyCuR6Ns4",
        "outputId": "8eb7caa5-892d-4c30-8b34-ab7ca8d9598c"
      },
      "execution_count": 17,
      "outputs": [
        {
          "output_type": "stream",
          "name": "stdout",
          "text": [
            "24\n",
            "4\n",
            "a+b:28 a-b:20 a*b=96 a/b=6.0\n"
          ]
        }
      ]
    },
    {
      "cell_type": "code",
      "source": [
        "#8. Write a program to demonstrate the use of logical operators.\n",
        "# lets suppose\n",
        "a=5 #101\n",
        "c=6 #110\n",
        "d=a|c\n",
        "print(d) #111 #ans=7\n",
        "\n",
        "a=5\n",
        "c=6\n",
        "d=a&c\n",
        "print(d) #100 #ans=4\n",
        "\n",
        "a=5\n",
        "c=6\n",
        "d=a^c\n",
        "print(d) #011 #ans=3"
      ],
      "metadata": {
        "colab": {
          "base_uri": "https://localhost:8080/"
        },
        "id": "Ql0K-OoH6oG_",
        "outputId": "673f9881-f3b9-41fe-c8a1-de7cd5131608"
      },
      "execution_count": 22,
      "outputs": [
        {
          "output_type": "stream",
          "name": "stdout",
          "text": [
            "7\n",
            "4\n",
            "3\n"
          ]
        }
      ]
    },
    {
      "cell_type": "code",
      "source": [
        "#9. Write a Python program to convert user input from string to integer, float, and boolean types.\n",
        "\n",
        "## Explicit type casting\n",
        "s=\"23\" #string\n",
        "print(int(s),type(int(s))) #string->int\n",
        "s=\"2.34\" #string\n",
        "print(float(s),type(float(s))) #string->float\n",
        "s=\"True\" #string\n",
        "print(bool(s),type(bool(s))) #string->bool"
      ],
      "metadata": {
        "colab": {
          "base_uri": "https://localhost:8080/"
        },
        "id": "2XFoR5id7UUK",
        "outputId": "d8b66c8c-e968-4d2d-ce9d-43bbe63c4792"
      },
      "execution_count": 24,
      "outputs": [
        {
          "output_type": "stream",
          "name": "stdout",
          "text": [
            "23 <class 'int'>\n",
            "2.34 <class 'float'>\n",
            "True <class 'bool'>\n"
          ]
        }
      ]
    },
    {
      "cell_type": "code",
      "source": [
        "#10. Write code to demonstrate type casting with list elements.\n",
        "l=[1.1,\"23\",\"True\"]\n",
        "print(l)\n",
        "l[0]=int(l[0])\n",
        "l[1]=int(l[1])\n",
        "l[2]=bool(l[2])\n",
        "print(l)"
      ],
      "metadata": {
        "colab": {
          "base_uri": "https://localhost:8080/"
        },
        "id": "_7DpPViH7zIG",
        "outputId": "28802ece-bc2b-4422-e1dc-84523bcebf38"
      },
      "execution_count": 25,
      "outputs": [
        {
          "output_type": "stream",
          "name": "stdout",
          "text": [
            "[1.1, '23', 'True']\n",
            "[1, 23, True]\n"
          ]
        }
      ]
    },
    {
      "cell_type": "code",
      "source": [
        "#11. Write a program that checks if a number is positive, negative, or zero.\n",
        "a=int(input())\n",
        "if(a>0):\n",
        "  print(\"positive\")\n",
        "elif(a<0):\n",
        "  print(\"negative\")\n",
        "else:\n",
        "  print(\"zero\")"
      ],
      "metadata": {
        "colab": {
          "base_uri": "https://localhost:8080/"
        },
        "id": "RBWQIH968Wpu",
        "outputId": "1d381e67-c2ad-443e-a6f6-35399fe7527c"
      },
      "execution_count": 28,
      "outputs": [
        {
          "output_type": "stream",
          "name": "stdout",
          "text": [
            "0\n",
            "zero\n"
          ]
        }
      ]
    },
    {
      "cell_type": "code",
      "source": [
        "#12. Write a for loop to print numbers from 1 to 10.\n",
        "for i in range(1,11):\n",
        "  print(i,end=\" \")"
      ],
      "metadata": {
        "colab": {
          "base_uri": "https://localhost:8080/"
        },
        "id": "6qiPlbx59CzX",
        "outputId": "04dcad8d-3664-4db3-82e6-0c9a7808584e"
      },
      "execution_count": 29,
      "outputs": [
        {
          "output_type": "stream",
          "name": "stdout",
          "text": [
            "1 2 3 4 5 6 7 8 9 10 "
          ]
        }
      ]
    },
    {
      "cell_type": "code",
      "source": [
        "#13. Write a Python program to find the sum of all even numbers between 1 and 50.\n",
        "sum=0\n",
        "for i in range(1,51):\n",
        "  if(i%2==0):\n",
        "    sum+=i\n",
        "print(sum)\n",
        ""
      ],
      "metadata": {
        "colab": {
          "base_uri": "https://localhost:8080/"
        },
        "id": "P23x6pkg9N_R",
        "outputId": "825e4a6e-7f2b-44da-df0f-cbe18dff2827"
      },
      "execution_count": 30,
      "outputs": [
        {
          "output_type": "stream",
          "name": "stdout",
          "text": [
            "650\n"
          ]
        }
      ]
    },
    {
      "cell_type": "code",
      "source": [
        "#14. Write a program to reverse a string using a while loop.\n",
        "st=\"ankit kumar\"\n",
        "s=\"\"\n",
        "n=len(st)\n",
        "while(n>=0):\n",
        "  s+=st[n-1]\n",
        "  n-=1\n",
        "print(s)"
      ],
      "metadata": {
        "colab": {
          "base_uri": "https://localhost:8080/"
        },
        "id": "PqdTeQ5r9q4e",
        "outputId": "19a77222-0bb8-49fe-adbe-2692856a891e"
      },
      "execution_count": 31,
      "outputs": [
        {
          "output_type": "stream",
          "name": "stdout",
          "text": [
            "ramuk tiknar\n"
          ]
        }
      ]
    },
    {
      "cell_type": "code",
      "source": [
        "#15. Write a Python program to calculate the factorial of a number provided by the user using a while loop.#\n",
        "n=int(input(\"Enter the no\"))\n",
        "fact=1\n",
        "while(n>0):\n",
        "  fact=fact*n\n",
        "  n-=1\n",
        "print(fact)"
      ],
      "metadata": {
        "colab": {
          "base_uri": "https://localhost:8080/"
        },
        "id": "ajaDS9j--VfN",
        "outputId": "0f192de7-e1f3-450f-bb97-53579802b234"
      },
      "execution_count": 32,
      "outputs": [
        {
          "output_type": "stream",
          "name": "stdout",
          "text": [
            "Enter the no5\n",
            "120\n"
          ]
        }
      ]
    }
  ]
}